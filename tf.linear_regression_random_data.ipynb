{
 "cells": [
  {
   "cell_type": "code",
   "execution_count": 57,
   "id": "north-annex",
   "metadata": {},
   "outputs": [],
   "source": [
    "import numpy as np\n",
    "import tensorflow.compat.v1 as tf\n",
    "tf.disable_v2_behavior()"
   ]
  },
  {
   "cell_type": "code",
   "execution_count": 59,
   "id": "trying-equivalent",
   "metadata": {},
   "outputs": [],
   "source": [
    "# Generate data using numpy.\n",
    "x_data = np.random.random_sample(10000).reshape(5000,2)\n",
    "y_data = x_data.dot(np.array([3,2]).reshape(2,1)) + 3"
   ]
  },
  {
   "cell_type": "code",
   "execution_count": 60,
   "id": "affected-cylinder",
   "metadata": {},
   "outputs": [],
   "source": [
    "# Set input features.\n",
    "X = tf.placeholder(tf.float32, shape=[None, 2])\n",
    "Y = tf.placeholder(tf.float32, shape=[None, 1])"
   ]
  },
  {
   "cell_type": "code",
   "execution_count": 61,
   "id": "anticipated-february",
   "metadata": {},
   "outputs": [],
   "source": [
    "# Set training features.\n",
    "W = tf.Variable(tf.random_normal([2, 1]), name='weight')\n",
    "b = tf.Variable(tf.random_normal([1]), name='bias')"
   ]
  },
  {
   "cell_type": "code",
   "execution_count": 62,
   "id": "abstract-chorus",
   "metadata": {},
   "outputs": [],
   "source": [
    "# Set hypothesis.\n",
    "H = tf.matmul(X, W) + b"
   ]
  },
  {
   "cell_type": "code",
   "execution_count": 64,
   "id": "hairy-football",
   "metadata": {},
   "outputs": [],
   "source": [
    "# Set cost function.\n",
    "cost = tf.reduce_mean(tf.square(H-Y))"
   ]
  },
  {
   "cell_type": "code",
   "execution_count": 66,
   "id": "interpreted-radar",
   "metadata": {},
   "outputs": [],
   "source": [
    "# Set optimizer.\n",
    "optimizer = tf.train.GradientDescentOptimizer(learning_rate=0.02)\n",
    "train = optimizer.minimize(cost)"
   ]
  },
  {
   "cell_type": "code",
   "execution_count": 70,
   "id": "vital-roberts",
   "metadata": {},
   "outputs": [],
   "source": [
    "sess = tf.Session()\n",
    "sess.run(tf.global_variables_initializer())"
   ]
  },
  {
   "cell_type": "code",
   "execution_count": 72,
   "id": "continued-movie",
   "metadata": {},
   "outputs": [
    {
     "name": "stdout",
     "output_type": "stream",
     "text": [
      "30.483566 [[-0.29483104]\n",
      " [-1.0387968 ]] [1.1489484]\n",
      "0.038175058 [[2.4997833]\n",
      " [1.553676 ]] [3.501289]\n",
      "0.004350192 [[2.8341959]\n",
      " [1.846015 ]] [3.1693676]\n",
      "0.0004961893 [[2.9445713]\n",
      " [1.9473959]] [3.0572178]\n",
      "5.661204e-05 [[2.981382 ]\n",
      " [1.9821231]] [3.019329]\n",
      "6.459552e-06 [[2.9937305]\n",
      " [1.9939412]] [3.0065296]\n",
      "7.380951e-07 [[2.9978843]\n",
      " [1.9979485]] [3.0022075]\n",
      "8.5726946e-08 [[2.9992785]\n",
      " [1.9993019]] [3.000753]\n",
      "1.0263267e-08 [[2.9997506]\n",
      " [1.9997584]] [3.0002608]\n",
      "1.3406867e-09 [[2.9999135]\n",
      " [1.9999098]] [3.0000947]\n",
      "3.474074e-10 [[2.999947 ]\n",
      " [1.9999641]] [3.0000474]\n"
     ]
    }
   ],
   "source": [
    "for step in range(5001):\n",
    "    cost_val, W_val, b_val, _ = sess.run([cost, W, b, train], feed_dict={X:x_data, Y:y_data})\n",
    "    if step % 500 == 0:\n",
    "        print (cost_val, W_val, b_val)"
   ]
  },
  {
   "cell_type": "code",
   "execution_count": null,
   "id": "equivalent-district",
   "metadata": {},
   "outputs": [],
   "source": []
  },
  {
   "cell_type": "code",
   "execution_count": null,
   "id": "weighted-degree",
   "metadata": {},
   "outputs": [],
   "source": []
  }
 ],
 "metadata": {
  "kernelspec": {
   "display_name": "Python [conda env:tensorflow] *",
   "language": "python",
   "name": "conda-env-tensorflow-py"
  },
  "language_info": {
   "codemirror_mode": {
    "name": "ipython",
    "version": 3
   },
   "file_extension": ".py",
   "mimetype": "text/x-python",
   "name": "python",
   "nbconvert_exporter": "python",
   "pygments_lexer": "ipython3",
   "version": "3.8.5"
  }
 },
 "nbformat": 4,
 "nbformat_minor": 5
}
