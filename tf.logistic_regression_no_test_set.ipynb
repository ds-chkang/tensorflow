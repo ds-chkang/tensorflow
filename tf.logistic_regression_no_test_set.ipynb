{
 "cells": [
  {
   "cell_type": "code",
   "execution_count": 88,
   "id": "alpine-uruguay",
   "metadata": {},
   "outputs": [],
   "source": [
    "import matplotlib.pyplot as plt\n",
    "import tensorflow.compat.v1 as tf\n",
    "tf.disable_v2_behavior()"
   ]
  },
  {
   "cell_type": "code",
   "execution_count": 130,
   "id": "broadband-titanium",
   "metadata": {},
   "outputs": [],
   "source": [
    "x_data = [[1,2],[2,3],[3,1],[4,3],[5,3],[6,2]]\n",
    "y_data =[[0],[0],[0],[1],[1],[1]]"
   ]
  },
  {
   "cell_type": "code",
   "execution_count": 131,
   "id": "treated-indonesia",
   "metadata": {},
   "outputs": [],
   "source": [
    "X = tf.placeholder(tf.float32, shape=[None, 2])\n",
    "Y = tf.placeholder(tf.float32, shape=[None, 1])"
   ]
  },
  {
   "cell_type": "code",
   "execution_count": 132,
   "id": "public-necessity",
   "metadata": {},
   "outputs": [],
   "source": [
    "W = tf.Variable(tf.random_normal([2,1]), name='weight')\n",
    "b = tf.Variable(tf.random_normal([1]), name='bias')"
   ]
  },
  {
   "cell_type": "code",
   "execution_count": 133,
   "id": "silent-deployment",
   "metadata": {},
   "outputs": [],
   "source": [
    "H = tf.sigmoid(tf.matmul(X, W) + b)"
   ]
  },
  {
   "cell_type": "code",
   "execution_count": 177,
   "id": "medieval-phoenix",
   "metadata": {},
   "outputs": [],
   "source": [
    "cost = -tf.reduce_mean(Y*tf.log(H)-(1-Y)*tf.log(1-H))"
   ]
  },
  {
   "cell_type": "code",
   "execution_count": 184,
   "id": "studied-reproduction",
   "metadata": {},
   "outputs": [],
   "source": [
    "optimizer = tf.train.GradientDescentOptimizer(learning_rate=0.000001)"
   ]
  },
  {
   "cell_type": "code",
   "execution_count": 185,
   "id": "residential-prefix",
   "metadata": {},
   "outputs": [],
   "source": [
    "train = optimizer.minimize(cost)"
   ]
  },
  {
   "cell_type": "code",
   "execution_count": 186,
   "id": "tamil-stadium",
   "metadata": {},
   "outputs": [],
   "source": [
    "predicted = tf.cast(H > 0.5, dtype=tf.float32)\n",
    "accuracy = tf.reduce_mean(tf.cast(tf.equal(predicted, Y), dtype=tf.float32))"
   ]
  },
  {
   "cell_type": "code",
   "execution_count": 187,
   "id": "solar-knight",
   "metadata": {},
   "outputs": [],
   "source": [
    "sess = tf.Session()"
   ]
  },
  {
   "cell_type": "code",
   "execution_count": 188,
   "id": "robust-morris",
   "metadata": {},
   "outputs": [],
   "source": [
    "sess.run(tf.global_variables_initializer())"
   ]
  },
  {
   "cell_type": "code",
   "execution_count": 189,
   "id": "enormous-lawsuit",
   "metadata": {},
   "outputs": [
    {
     "name": "stdout",
     "output_type": "stream",
     "text": [
      "0 Cost: -1.77\n",
      "300 Cost: -1.77\n",
      "600 Cost: -1.77\n",
      "900 Cost: -1.78\n",
      "1200 Cost: -1.78\n",
      "1500 Cost: -1.78\n",
      "1800 Cost: -1.78\n",
      "2100 Cost: -1.78\n",
      "2400 Cost: -1.78\n",
      "2700 Cost: -1.78\n",
      "3000 Cost: -1.78\n",
      "3300 Cost: -1.78\n",
      "3600 Cost: -1.78\n",
      "3900 Cost: -1.78\n",
      "4200 Cost: -1.78\n",
      "4500 Cost: -1.78\n",
      "4800 Cost: -1.78\n",
      "5100 Cost: -1.78\n",
      "5400 Cost: -1.78\n",
      "5700 Cost: -1.79\n",
      "6000 Cost: -1.79\n",
      "6300 Cost: -1.79\n",
      "6600 Cost: -1.79\n",
      "6900 Cost: -1.79\n",
      "7200 Cost: -1.79\n",
      "7500 Cost: -1.79\n",
      "7800 Cost: -1.79\n",
      "8100 Cost: -1.79\n",
      "8400 Cost: -1.79\n",
      "8700 Cost: -1.79\n",
      "9000 Cost: -1.79\n",
      "9300 Cost: -1.79\n",
      "9600 Cost: -1.79\n",
      "9900 Cost: -1.79\n",
      "\n",
      "Hypothesis :  [[0.90523136]\n",
      " [0.97768533]\n",
      " [0.9900454 ]\n",
      " [0.9982691 ]\n",
      " [0.9995223 ]\n",
      " [0.9998335 ]] \n",
      "Correct(Y) :  [[1.]\n",
      " [1.]\n",
      " [1.]\n",
      " [1.]\n",
      " [1.]\n",
      " [1.]] \n",
      "Accuracy :  0.5\n"
     ]
    }
   ],
   "source": [
    "steps = []\n",
    "costs = []\n",
    "\n",
    "for step in range(10001):\n",
    "    _, cost_val = sess.run([train, cost], feed_dict={X:x_data, Y:y_data})\n",
    "    if step % 300 == 0:\n",
    "        print (step, \"Cost: {:.2f}\".format(cost_val))\n",
    "        costs.append(cost_val)\n",
    "        steps.append(step)\n",
    "\n",
    "# Accuracy report\n",
    "hypo_val, predict_val, acc_val = sess.run([H, predicted, accuracy], feed_dict={X: x_data, Y: y_data})\n",
    "print(\"\\nHypothesis : \", hypo_val, \"\\nCorrect(Y) : \", predict_val, \"\\nAccuracy : \", acc_val)"
   ]
  },
  {
   "cell_type": "code",
   "execution_count": null,
   "id": "strange-catholic",
   "metadata": {},
   "outputs": [],
   "source": []
  }
 ],
 "metadata": {
  "kernelspec": {
   "display_name": "Python [conda env:tensorflow] *",
   "language": "python",
   "name": "conda-env-tensorflow-py"
  },
  "language_info": {
   "codemirror_mode": {
    "name": "ipython",
    "version": 3
   },
   "file_extension": ".py",
   "mimetype": "text/x-python",
   "name": "python",
   "nbconvert_exporter": "python",
   "pygments_lexer": "ipython3",
   "version": "3.8.5"
  }
 },
 "nbformat": 4,
 "nbformat_minor": 5
}
