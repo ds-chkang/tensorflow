{
 "cells": [
  {
   "cell_type": "code",
   "execution_count": 88,
   "id": "exceptional-shield",
   "metadata": {},
   "outputs": [],
   "source": [
    "import matplotlib.pyplot as plt\n",
    "import tensorflow.compat.v1 as tf\n",
    "tf.disable_v2_behavior()"
   ]
  },
  {
   "cell_type": "code",
   "execution_count": 130,
   "id": "unauthorized-syndication",
   "metadata": {},
   "outputs": [],
   "source": [
    "x_data = [[1,2],[2,3],[3,1],[4,3],[5,3],[6,2]]\n",
    "y_data =[[0],[0],[0],[1],[1],[1]]"
   ]
  },
  {
   "cell_type": "code",
   "execution_count": 131,
   "id": "alike-filling",
   "metadata": {},
   "outputs": [],
   "source": [
    "X = tf.placeholder(tf.float32, shape=[None, 2])\n",
    "Y = tf.placeholder(tf.float32, shape=[None, 1])"
   ]
  },
  {
   "cell_type": "code",
   "execution_count": 132,
   "id": "hungarian-calendar",
   "metadata": {},
   "outputs": [],
   "source": [
    "W = tf.Variable(tf.random_normal([2,1]), name='weight')\n",
    "b = tf.Variable(tf.random_normal([1]), name='bias')"
   ]
  },
  {
   "cell_type": "code",
   "execution_count": 133,
   "id": "driven-worse",
   "metadata": {},
   "outputs": [],
   "source": [
    "H = tf.sigmoid(tf.matmul(X, W) + b)"
   ]
  },
  {
   "cell_type": "code",
   "execution_count": 234,
   "id": "harmful-malta",
   "metadata": {},
   "outputs": [],
   "source": [
    "cost = -tf.reduce_mean(Y*tf.log(H)+(1-Y)*(tf.log(1-H)))"
   ]
  },
  {
   "cell_type": "code",
   "execution_count": 243,
   "id": "continent-diesel",
   "metadata": {},
   "outputs": [],
   "source": [
    "optimizer = tf.train.GradientDescentOptimizer(learning_rate=0.0002)"
   ]
  },
  {
   "cell_type": "code",
   "execution_count": 244,
   "id": "surgical-adelaide",
   "metadata": {},
   "outputs": [],
   "source": [
    "train = optimizer.minimize(cost)"
   ]
  },
  {
   "cell_type": "code",
   "execution_count": 245,
   "id": "moral-catch",
   "metadata": {},
   "outputs": [],
   "source": [
    "predicted = tf.cast(H > 0.5, dtype=tf.float32)\n",
    "accuracy = tf.reduce_mean(tf.cast(tf.equal(predicted, Y), dtype=tf.float32))"
   ]
  },
  {
   "cell_type": "code",
   "execution_count": 246,
   "id": "olympic-porcelain",
   "metadata": {},
   "outputs": [],
   "source": [
    "sess = tf.Session()"
   ]
  },
  {
   "cell_type": "code",
   "execution_count": 247,
   "id": "presidential-program",
   "metadata": {},
   "outputs": [],
   "source": [
    "sess.run(tf.global_variables_initializer())"
   ]
  },
  {
   "cell_type": "code",
   "execution_count": 248,
   "id": "creative-alabama",
   "metadata": {},
   "outputs": [
    {
     "name": "stdout",
     "output_type": "stream",
     "text": [
      "0 Cost: 0.75\n",
      "1000 Cost: 0.60\n",
      "2000 Cost: 0.53\n",
      "3000 Cost: 0.50\n",
      "4000 Cost: 0.48\n",
      "5000 Cost: 0.48\n",
      "6000 Cost: 0.48\n",
      "7000 Cost: 0.47\n",
      "8000 Cost: 0.47\n",
      "9000 Cost: 0.47\n",
      "10000 Cost: 0.47\n",
      "11000 Cost: 0.47\n",
      "12000 Cost: 0.47\n",
      "13000 Cost: 0.46\n",
      "14000 Cost: 0.46\n",
      "15000 Cost: 0.46\n",
      "16000 Cost: 0.46\n",
      "17000 Cost: 0.46\n",
      "18000 Cost: 0.46\n",
      "19000 Cost: 0.45\n",
      "20000 Cost: 0.45\n",
      "21000 Cost: 0.45\n",
      "22000 Cost: 0.45\n",
      "23000 Cost: 0.45\n",
      "24000 Cost: 0.45\n",
      "25000 Cost: 0.44\n",
      "26000 Cost: 0.44\n",
      "27000 Cost: 0.44\n",
      "28000 Cost: 0.44\n",
      "29000 Cost: 0.44\n",
      "30000 Cost: 0.44\n",
      "31000 Cost: 0.44\n",
      "32000 Cost: 0.43\n",
      "33000 Cost: 0.43\n",
      "34000 Cost: 0.43\n",
      "35000 Cost: 0.43\n",
      "36000 Cost: 0.43\n",
      "37000 Cost: 0.43\n",
      "38000 Cost: 0.42\n",
      "39000 Cost: 0.42\n",
      "40000 Cost: 0.42\n",
      "41000 Cost: 0.42\n",
      "42000 Cost: 0.42\n",
      "43000 Cost: 0.42\n",
      "44000 Cost: 0.42\n",
      "45000 Cost: 0.41\n",
      "46000 Cost: 0.41\n",
      "47000 Cost: 0.41\n",
      "48000 Cost: 0.41\n",
      "49000 Cost: 0.41\n",
      "50000 Cost: 0.41\n",
      "\n",
      "Hypothesis :  [[0.18048474]\n",
      " [0.21830937]\n",
      " [0.7133611 ]\n",
      " [0.6223078 ]\n",
      " [0.80008173]\n",
      " [0.9490292 ]] \n",
      "Correct(Y) :  [[0.]\n",
      " [0.]\n",
      " [1.]\n",
      " [1.]\n",
      " [1.]\n",
      " [1.]] \n",
      "Accuracy :  0.8333333\n"
     ]
    }
   ],
   "source": [
    "steps = []\n",
    "costs = []\n",
    "\n",
    "for step in range(50001):\n",
    "    _, cost_val = sess.run([train, cost], feed_dict={X:x_data, Y:y_data})\n",
    "    if step % 1000 == 0:\n",
    "        print (step, \"Cost: {:.2f}\".format(cost_val))\n",
    "        costs.append(cost_val)\n",
    "        steps.append(step)\n",
    "\n",
    "# Accuracy report\n",
    "hypo_val, predict_val, acc_val = sess.run([H, predicted, accuracy], feed_dict={X: x_data, Y: y_data})\n",
    "print(\"\\nHypothesis : \", hypo_val, \"\\nCorrect(Y) : \", predict_val, \"\\nAccuracy : \", acc_val)"
   ]
  },
  {
   "cell_type": "code",
   "execution_count": 249,
   "id": "pressed-joseph",
   "metadata": {},
   "outputs": [
    {
     "data": {
      "text/plain": [
       "[<matplotlib.lines.Line2D at 0x7f4caa7bf970>]"
      ]
     },
     "execution_count": 249,
     "metadata": {},
     "output_type": "execute_result"
    },
    {
     "data": {
      "image/png": "[encoded data removed]",
      "text/plain": [
       "<Figure size 432x288 with 1 Axes>"
      ]
     },
     "metadata": {
      "needs_background": "light"
     },
     "output_type": "display_data"
    }
   ],
   "source": [
    "plt.plot(steps, costs)"
   ]
  },
  {
   "cell_type": "code",
   "execution_count": null,
   "id": "nearby-generator",
   "metadata": {},
   "outputs": [],
   "source": []
  },
  {
   "cell_type": "code",
   "execution_count": null,
   "id": "meaningful-scholar",
   "metadata": {},
   "outputs": [],
   "source": []
  }
 ],
 "metadata": {
  "kernelspec": {
   "display_name": "Python [conda env:tensorflow] *",
   "language": "python",
   "name": "conda-env-tensorflow-py"
  },
  "language_info": {
   "codemirror_mode": {
    "name": "ipython",
    "version": 3
   },
   "file_extension": ".py",
   "mimetype": "text/x-python",
   "name": "python",
   "nbconvert_exporter": "python",
   "pygments_lexer": "ipython3",
   "version": "3.8.5"
  }
 },
 "nbformat": 4,
 "nbformat_minor": 5
}
