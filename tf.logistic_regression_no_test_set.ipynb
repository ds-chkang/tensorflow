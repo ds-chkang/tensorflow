{
 "cells": [
  {
   "cell_type": "code",
   "execution_count": 88,
   "id": "emotional-shipping",
   "metadata": {},
   "outputs": [],
   "source": [
    "import matplotlib.pyplot as plt\n",
    "import tensorflow.compat.v1 as tf\n",
    "tf.disable_v2_behavior()"
   ]
  },
  {
   "cell_type": "code",
   "execution_count": 130,
   "id": "informed-melissa",
   "metadata": {},
   "outputs": [],
   "source": [
    "x_data = [[1,2],[2,3],[3,1],[4,3],[5,3],[6,2]]\n",
    "y_data =[[0],[0],[0],[1],[1],[1]]"
   ]
  },
  {
   "cell_type": "code",
   "execution_count": 131,
   "id": "desirable-structure",
   "metadata": {},
   "outputs": [],
   "source": [
    "X = tf.placeholder(tf.float32, shape=[None, 2])\n",
    "Y = tf.placeholder(tf.float32, shape=[None, 1])"
   ]
  },
  {
   "cell_type": "code",
   "execution_count": 132,
   "id": "unavailable-simon",
   "metadata": {},
   "outputs": [],
   "source": [
    "W = tf.Variable(tf.random_normal([2,1]), name='weight')\n",
    "b = tf.Variable(tf.random_normal([1]), name='bias')"
   ]
  },
  {
   "cell_type": "code",
   "execution_count": 133,
   "id": "deadly-intro",
   "metadata": {},
   "outputs": [],
   "source": [
    "H = tf.sigmoid(tf.matmul(X, W) + b)"
   ]
  },
  {
   "cell_type": "code",
   "execution_count": 234,
   "id": "decent-slope",
   "metadata": {},
   "outputs": [],
   "source": [
    "cost = -tf.reduce_mean(Y*tf.log(H)+(1-Y)*(tf.log(1-H)))"
   ]
  },
  {
   "cell_type": "code",
   "execution_count": 235,
   "id": "insured-topic",
   "metadata": {},
   "outputs": [],
   "source": [
    "optimizer = tf.train.GradientDescentOptimizer(learning_rate=0.002)"
   ]
  },
  {
   "cell_type": "code",
   "execution_count": 236,
   "id": "detected-reproduction",
   "metadata": {},
   "outputs": [],
   "source": [
    "train = optimizer.minimize(cost)"
   ]
  },
  {
   "cell_type": "code",
   "execution_count": 237,
   "id": "international-fabric",
   "metadata": {},
   "outputs": [],
   "source": [
    "predicted = tf.cast(H > 0.5, dtype=tf.float32)\n",
    "accuracy = tf.reduce_mean(tf.cast(tf.equal(predicted, Y), dtype=tf.float32))"
   ]
  },
  {
   "cell_type": "code",
   "execution_count": 238,
   "id": "infinite-labor",
   "metadata": {},
   "outputs": [],
   "source": [
    "sess = tf.Session()"
   ]
  },
  {
   "cell_type": "code",
   "execution_count": 239,
   "id": "looking-hacker",
   "metadata": {},
   "outputs": [],
   "source": [
    "sess.run(tf.global_variables_initializer())"
   ]
  },
  {
   "cell_type": "code",
   "execution_count": 240,
   "id": "lightweight-bracelet",
   "metadata": {},
   "outputs": [
    {
     "name": "stdout",
     "output_type": "stream",
     "text": [
      "0 Cost: 1.70\n",
      "500 Cost: 0.84\n",
      "1000 Cost: 0.69\n",
      "1500 Cost: 0.61\n",
      "2000 Cost: 0.55\n",
      "2500 Cost: 0.51\n",
      "3000 Cost: 0.49\n",
      "3500 Cost: 0.47\n",
      "4000 Cost: 0.45\n",
      "4500 Cost: 0.44\n",
      "5000 Cost: 0.43\n",
      "5500 Cost: 0.42\n",
      "6000 Cost: 0.41\n",
      "6500 Cost: 0.40\n",
      "7000 Cost: 0.39\n",
      "7500 Cost: 0.39\n",
      "8000 Cost: 0.38\n",
      "8500 Cost: 0.37\n",
      "9000 Cost: 0.37\n",
      "9500 Cost: 0.36\n",
      "10000 Cost: 0.36\n",
      "10500 Cost: 0.35\n",
      "11000 Cost: 0.35\n",
      "11500 Cost: 0.34\n",
      "12000 Cost: 0.33\n",
      "12500 Cost: 0.33\n",
      "13000 Cost: 0.32\n",
      "13500 Cost: 0.32\n",
      "14000 Cost: 0.32\n",
      "14500 Cost: 0.31\n",
      "15000 Cost: 0.31\n",
      "15500 Cost: 0.30\n",
      "16000 Cost: 0.30\n",
      "16500 Cost: 0.29\n",
      "17000 Cost: 0.29\n",
      "17500 Cost: 0.29\n",
      "18000 Cost: 0.28\n",
      "18500 Cost: 0.28\n",
      "19000 Cost: 0.27\n",
      "19500 Cost: 0.27\n",
      "20000 Cost: 0.27\n",
      "\n",
      "Hypothesis :  [[0.09195545]\n",
      " [0.2011174 ]\n",
      " [0.522786  ]\n",
      " [0.6932267 ]\n",
      " [0.8713036 ]\n",
      " [0.9607003 ]] \n",
      "Correct(Y) :  [[0.]\n",
      " [0.]\n",
      " [1.]\n",
      " [1.]\n",
      " [1.]\n",
      " [1.]] \n",
      "Accuracy :  0.8333333\n"
     ]
    }
   ],
   "source": [
    "steps = []\n",
    "costs = []\n",
    "\n",
    "for step in range(20001):\n",
    "    _, cost_val = sess.run([train, cost], feed_dict={X:x_data, Y:y_data})\n",
    "    if step % 500 == 0:\n",
    "        print (step, \"Cost: {:.2f}\".format(cost_val))\n",
    "        costs.append(cost_val)\n",
    "        steps.append(step)\n",
    "\n",
    "# Accuracy report\n",
    "hypo_val, predict_val, acc_val = sess.run([H, predicted, accuracy], feed_dict={X: x_data, Y: y_data})\n",
    "print(\"\\nHypothesis : \", hypo_val, \"\\nCorrect(Y) : \", predict_val, \"\\nAccuracy : \", acc_val)"
   ]
  },
  {
   "cell_type": "code",
   "execution_count": 242,
   "id": "respective-material",
   "metadata": {},
   "outputs": [
    {
     "data": {
      "text/plain": [
       "[<matplotlib.lines.Line2D at 0x7f4caa8412e0>]"
      ]
     },
     "execution_count": 242,
     "metadata": {},
     "output_type": "execute_result"
    },
    {
     "data": {
      "image/png": "[encoded data removed]",
      "text/plain": [
       "<Figure size 432x288 with 1 Axes>"
      ]
     },
     "metadata": {
      "needs_background": "light"
     },
     "output_type": "display_data"
    }
   ],
   "source": [
    "plt.plot(steps, costs)"
   ]
  },
  {
   "cell_type": "code",
   "execution_count": null,
   "id": "functional-trinity",
   "metadata": {},
   "outputs": [],
   "source": []
  },
  {
   "cell_type": "code",
   "execution_count": null,
   "id": "genuine-wheel",
   "metadata": {},
   "outputs": [],
   "source": []
  }
 ],
 "metadata": {
  "kernelspec": {
   "display_name": "Python [conda env:tensorflow] *",
   "language": "python",
   "name": "conda-env-tensorflow-py"
  },
  "language_info": {
   "codemirror_mode": {
    "name": "ipython",
    "version": 3
   },
   "file_extension": ".py",
   "mimetype": "text/x-python",
   "name": "python",
   "nbconvert_exporter": "python",
   "pygments_lexer": "ipython3",
   "version": "3.8.5"
  }
 },
 "nbformat": 4,
 "nbformat_minor": 5
}
