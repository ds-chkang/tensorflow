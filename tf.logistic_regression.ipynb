{
 "cells": [
  {
   "cell_type": "code",
   "execution_count": 88,
   "id": "complete-nudist",
   "metadata": {},
   "outputs": [],
   "source": [
    "import matplotlib.pyplot as plt\n",
    "import tensorflow.compat.v1 as tf\n",
    "tf.disable_v2_behavior()"
   ]
  },
  {
   "cell_type": "code",
   "execution_count": 130,
   "id": "female-cartoon",
   "metadata": {},
   "outputs": [],
   "source": [
    "x_data = [[1,2],[2,3],[3,1],[4,3],[5,3],[6,2]]\n",
    "y_data =[[0],[0],[0],[1],[1],[1]]"
   ]
  },
  {
   "cell_type": "code",
   "execution_count": 131,
   "id": "quick-biotechnology",
   "metadata": {},
   "outputs": [],
   "source": [
    "X = tf.placeholder(tf.float32, shape=[None, 2])\n",
    "Y = tf.placeholder(tf.float32, shape=[None, 1])"
   ]
  },
  {
   "cell_type": "code",
   "execution_count": 132,
   "id": "dated-desert",
   "metadata": {},
   "outputs": [],
   "source": [
    "W = tf.Variable(tf.random_normal([2,1]), name='weight')\n",
    "b = tf.Variable(tf.random_normal([1]), name='bias')"
   ]
  },
  {
   "cell_type": "code",
   "execution_count": 133,
   "id": "broadband-implement",
   "metadata": {},
   "outputs": [],
   "source": [
    "H = tf.sigmoid(tf.matmul(X, W) + b)"
   ]
  },
  {
   "cell_type": "code",
   "execution_count": 234,
   "id": "warming-purple",
   "metadata": {},
   "outputs": [],
   "source": [
    "cost = -tf.reduce_mean(Y*tf.log(H)+(1-Y)*(tf.log(1-H)))"
   ]
  },
  {
   "cell_type": "code",
   "execution_count": 250,
   "id": "taken-string",
   "metadata": {},
   "outputs": [],
   "source": [
    "optimizer = tf.train.GradientDescentOptimizer(learning_rate=0.002)"
   ]
  },
  {
   "cell_type": "code",
   "execution_count": 251,
   "id": "interracial-milton",
   "metadata": {},
   "outputs": [],
   "source": [
    "train = optimizer.minimize(cost)"
   ]
  },
  {
   "cell_type": "code",
   "execution_count": 253,
   "id": "modular-smooth",
   "metadata": {},
   "outputs": [],
   "source": [
    "sess = tf.Session()"
   ]
  },
  {
   "cell_type": "code",
   "execution_count": 254,
   "id": "asian-father",
   "metadata": {},
   "outputs": [],
   "source": [
    "sess.run(tf.global_variables_initializer())"
   ]
  },
  {
   "cell_type": "code",
   "execution_count": 255,
   "id": "isolated-apache",
   "metadata": {},
   "outputs": [
    {
     "name": "stdout",
     "output_type": "stream",
     "text": [
      "0 Cost: 2.35\n",
      "3000 Cost: 0.32\n",
      "6000 Cost: 0.29\n",
      "9000 Cost: 0.27\n",
      "12000 Cost: 0.25\n",
      "15000 Cost: 0.23\n",
      "18000 Cost: 0.22\n",
      "21000 Cost: 0.21\n",
      "24000 Cost: 0.19\n",
      "27000 Cost: 0.18\n",
      "30000 Cost: 0.17\n",
      "33000 Cost: 0.16\n",
      "36000 Cost: 0.16\n",
      "39000 Cost: 0.15\n",
      "42000 Cost: 0.14\n",
      "45000 Cost: 0.14\n",
      "48000 Cost: 0.13\n",
      "\n",
      "Hypothesis :  [[0.02239802]\n",
      " [0.14572185]\n",
      " [0.26202428]\n",
      " [0.8016957 ]\n",
      " [0.9516471 ]\n",
      " [0.9842893 ]] \n",
      "Correct(Y) :  [[0.]\n",
      " [0.]\n",
      " [0.]\n",
      " [1.]\n",
      " [1.]\n",
      " [1.]] \n",
      "Accuracy :  1.0\n"
     ]
    }
   ],
   "source": [
    "steps = []\n",
    "costs = []\n",
    "\n",
    "for step in range(50001):\n",
    "    _, cost_val = sess.run([train, cost], feed_dict={X:x_data, Y:y_data})\n",
    "    if step % 3000 == 0:\n",
    "        print (step, \"Cost: {:.2f}\".format(cost_val))\n",
    "        costs.append(cost_val)\n",
    "        steps.append(step)"
   ]
  },
  {
   "cell_type": "code",
   "execution_count": 258,
   "id": "available-tucson",
   "metadata": {},
   "outputs": [],
   "source": [
    "predicted = tf.cast(H > 0.5, dtype=tf.float32)\n",
    "accuracy = tf.reduce_mean(tf.cast(tf.equal(predicted, Y), dtype=tf.float32))"
   ]
  },
  {
   "cell_type": "code",
   "execution_count": 259,
   "id": "coated-canada",
   "metadata": {},
   "outputs": [
    {
     "name": "stdout",
     "output_type": "stream",
     "text": [
      "\n",
      "Hypothesis :  [[0.02239802]\n",
      " [0.14572185]\n",
      " [0.26202428]\n",
      " [0.8016957 ]\n",
      " [0.9516471 ]\n",
      " [0.9842893 ]] \n",
      "Correct(Y) :  [[0.]\n",
      " [0.]\n",
      " [0.]\n",
      " [1.]\n",
      " [1.]\n",
      " [1.]] \n",
      "Accuracy :  1.0\n"
     ]
    }
   ],
   "source": [
    "# Accuracy report\n",
    "hypo_val, predict_val, acc_val = sess.run([H, predicted, accuracy], feed_dict={X: x_data, Y: y_data})\n",
    "print(\"\\nHypothesis : \", hypo_val, \"\\nCorrect(Y) : \", predict_val, \"\\nAccuracy : \", acc_val)"
   ]
  },
  {
   "cell_type": "code",
   "execution_count": 260,
   "id": "graduate-raise",
   "metadata": {},
   "outputs": [
    {
     "data": {
      "text/plain": [
       "[<matplotlib.lines.Line2D at 0x7f4caa697160>]"
      ]
     },
     "execution_count": 260,
     "metadata": {},
     "output_type": "execute_result"
    },
    {
     "data": {
      "image/png": "[encoded data removed]",
      "text/plain": [
       "<Figure size 432x288 with 1 Axes>"
      ]
     },
     "metadata": {
      "needs_background": "light"
     },
     "output_type": "display_data"
    }
   ],
   "source": [
    "plt.plot(steps, costs)"
   ]
  },
  {
   "cell_type": "code",
   "execution_count": null,
   "id": "social-spray",
   "metadata": {},
   "outputs": [],
   "source": []
  },
  {
   "cell_type": "code",
   "execution_count": null,
   "id": "together-weight",
   "metadata": {},
   "outputs": [],
   "source": []
  }
 ],
 "metadata": {
  "kernelspec": {
   "display_name": "Python [conda env:tensorflow] *",
   "language": "python",
   "name": "conda-env-tensorflow-py"
  },
  "language_info": {
   "codemirror_mode": {
    "name": "ipython",
    "version": 3
   },
   "file_extension": ".py",
   "mimetype": "text/x-python",
   "name": "python",
   "nbconvert_exporter": "python",
   "pygments_lexer": "ipython3",
   "version": "3.8.5"
  }
 },
 "nbformat": 4,
 "nbformat_minor": 5
}
