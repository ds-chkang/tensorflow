{
 "cells": [
  {
   "cell_type": "code",
   "execution_count": 177,
   "id": "electronic-period",
   "metadata": {},
   "outputs": [],
   "source": [
    "import matplotlib.pyplot as plt\n",
    "import tensorflow.compat.v1 as tf\n",
    "from sklearn.model_selection import train_test_split\n",
    "import numpy as np\n",
    "import random\n",
    "tf.disable_v2_behavior()"
   ]
  },
  {
   "cell_type": "code",
   "execution_count": 178,
   "id": "weird-engineer",
   "metadata": {},
   "outputs": [],
   "source": [
    "x_data = [[1,2],[2,3],[3,1],[4,3],[5,3],[6,2]]\n",
    "y_data =[[0],[0],[0],[1],[1],[1]]"
   ]
  },
  {
   "cell_type": "code",
   "execution_count": 179,
   "id": "expected-credits",
   "metadata": {},
   "outputs": [],
   "source": [
    "X_train, X_test, Y_train, Y_test = train_test_split(x_data, y_data, test_size=0.3, random_state=33)"
   ]
  },
  {
   "cell_type": "code",
   "execution_count": 180,
   "id": "impaired-phoenix",
   "metadata": {},
   "outputs": [],
   "source": [
    "X = tf.placeholder(tf.float32, shape=[None, 2])\n",
    "Y = tf.placeholder(tf.float32, shape=[None, 1])"
   ]
  },
  {
   "cell_type": "code",
   "execution_count": 181,
   "id": "filled-myanmar",
   "metadata": {},
   "outputs": [],
   "source": [
    "W = tf.Variable(tf.random_normal([2,1]), name='weight')\n",
    "b = tf.Variable(tf.random_normal([1]), name='bias')"
   ]
  },
  {
   "cell_type": "code",
   "execution_count": 182,
   "id": "sunset-valuable",
   "metadata": {},
   "outputs": [],
   "source": [
    "H = tf.sigmoid(tf.matmul(X, W)+b)"
   ]
  },
  {
   "cell_type": "code",
   "execution_count": 183,
   "id": "universal-television",
   "metadata": {},
   "outputs": [],
   "source": [
    "cost = -tf.reduce_mean(Y*tf.log(H)+(1-Y)*(tf.log(1-H)))"
   ]
  },
  {
   "cell_type": "code",
   "execution_count": 219,
   "id": "parallel-board",
   "metadata": {},
   "outputs": [],
   "source": [
    "optimizer = tf.train.GradientDescentOptimizer(learning_rate=0.0001)"
   ]
  },
  {
   "cell_type": "code",
   "execution_count": 220,
   "id": "crude-lafayette",
   "metadata": {},
   "outputs": [],
   "source": [
    "train = optimizer.minimize(cost)"
   ]
  },
  {
   "cell_type": "code",
   "execution_count": 221,
   "id": "natural-novel",
   "metadata": {},
   "outputs": [],
   "source": [
    "sess = tf.Session()"
   ]
  },
  {
   "cell_type": "code",
   "execution_count": 222,
   "id": "alike-british",
   "metadata": {},
   "outputs": [],
   "source": [
    "sess.run(tf.global_variables_initializer())"
   ]
  },
  {
   "cell_type": "code",
   "execution_count": 223,
   "id": "bizarre-ratio",
   "metadata": {},
   "outputs": [],
   "source": [
    "steps = []\n",
    "costs = []"
   ]
  },
  {
   "cell_type": "code",
   "execution_count": 224,
   "id": "useful-europe",
   "metadata": {},
   "outputs": [
    {
     "name": "stdout",
     "output_type": "stream",
     "text": [
      "0 Cost: 7.056\n",
      "500 Cost: 6.679\n",
      "1000 Cost: 6.302\n",
      "1500 Cost: 5.926\n",
      "2000 Cost: 5.550\n",
      "2500 Cost: 5.176\n",
      "3000 Cost: 4.802\n",
      "3500 Cost: 4.430\n",
      "4000 Cost: 4.060\n",
      "4500 Cost: 3.694\n",
      "5000 Cost: 3.332\n",
      "5500 Cost: 2.977\n",
      "6000 Cost: 2.630\n",
      "6500 Cost: 2.296\n",
      "7000 Cost: 1.980\n",
      "7500 Cost: 1.688\n",
      "8000 Cost: 1.430\n",
      "8500 Cost: 1.214\n",
      "9000 Cost: 1.046\n",
      "9500 Cost: 0.923\n",
      "10000 Cost: 0.840\n",
      "10500 Cost: 0.786\n",
      "11000 Cost: 0.751\n",
      "11500 Cost: 0.729\n",
      "12000 Cost: 0.714\n",
      "12500 Cost: 0.705\n",
      "13000 Cost: 0.698\n",
      "13500 Cost: 0.693\n",
      "14000 Cost: 0.690\n",
      "14500 Cost: 0.687\n",
      "15000 Cost: 0.685\n",
      "15500 Cost: 0.683\n",
      "16000 Cost: 0.681\n",
      "16500 Cost: 0.680\n",
      "17000 Cost: 0.678\n",
      "17500 Cost: 0.677\n",
      "18000 Cost: 0.675\n",
      "18500 Cost: 0.674\n",
      "19000 Cost: 0.673\n",
      "19500 Cost: 0.671\n",
      "20000 Cost: 0.670\n"
     ]
    }
   ],
   "source": [
    "for step in range(20001):\n",
    "    _, cost_val = sess.run([train, cost], feed_dict={X:X_train, Y:Y_train})\n",
    "    if step % 500 == 0:\n",
    "        steps.append(step)\n",
    "        costs.append(cost_val)\n",
    "        print (step, \"Cost: {:.3f}\".format(cost_val))"
   ]
  },
  {
   "cell_type": "code",
   "execution_count": 225,
   "id": "abandoned-complexity",
   "metadata": {},
   "outputs": [
    {
     "data": {
      "text/plain": [
       "[<matplotlib.lines.Line2D at 0x7f1d94aa9e80>]"
      ]
     },
     "execution_count": 225,
     "metadata": {},
     "output_type": "execute_result"
    },
    {
     "data": {
      "image/png": "[encoded data removed]",
      "text/plain": [
       "<Figure size 432x288 with 1 Axes>"
      ]
     },
     "metadata": {
      "needs_background": "light"
     },
     "output_type": "display_data"
    }
   ],
   "source": [
    "plt.plot(steps, costs)"
   ]
  },
  {
   "cell_type": "code",
   "execution_count": 227,
   "id": "hollow-florist",
   "metadata": {},
   "outputs": [],
   "source": [
    "predicted = tf.cast(H > 0.5, dtype=tf.float32)\n",
    "accuracy = tf.reduce_mean(tf.cast(tf.equal(predicted, Y), dtype=tf.float32))"
   ]
  },
  {
   "cell_type": "code",
   "execution_count": 233,
   "id": "balanced-moisture",
   "metadata": {},
   "outputs": [
    {
     "name": "stdout",
     "output_type": "stream",
     "text": [
      "\n",
      "Hypothesis :  [[0.7591784 ]\n",
      " [0.58917546]] \n",
      "Correct(Y) :  [[1.]\n",
      " [1.]] \n",
      "Accuracy :  0.5\n"
     ]
    }
   ],
   "source": [
    "hypo_val, predict_val, acc_val = sess.run([H, predicted, accuracy], feed_dict={X:X_test, Y:Y_test})\n",
    "print(\"\\nHypothesis : \", hypo_val, \"\\nCorrect(Y) : \", predict_val, \"\\nAccuracy : \", acc_val)"
   ]
  },
  {
   "cell_type": "code",
   "execution_count": null,
   "id": "regulated-literacy",
   "metadata": {},
   "outputs": [],
   "source": []
  }
 ],
 "metadata": {
  "kernelspec": {
   "display_name": "Python [conda env:tensorflow] *",
   "language": "python",
   "name": "conda-env-tensorflow-py"
  },
  "language_info": {
   "codemirror_mode": {
    "name": "ipython",
    "version": 3
   },
   "file_extension": ".py",
   "mimetype": "text/x-python",
   "name": "python",
   "nbconvert_exporter": "python",
   "pygments_lexer": "ipython3",
   "version": "3.8.5"
  }
 },
 "nbformat": 4,
 "nbformat_minor": 5
}
