{
 "cells": [
  {
   "cell_type": "code",
   "execution_count": 39,
   "id": "religious-vancouver",
   "metadata": {},
   "outputs": [],
   "source": [
    "import tensorflow.compat.v1 as tf\n",
    "tf.disable_v2_behavior()"
   ]
  },
  {
   "cell_type": "code",
   "execution_count": 40,
   "id": "established-airline",
   "metadata": {},
   "outputs": [],
   "source": [
    "x_data = [1,2,3]\n",
    "y_data = [1,2,3]"
   ]
  },
  {
   "cell_type": "code",
   "execution_count": 41,
   "id": "frozen-database",
   "metadata": {},
   "outputs": [],
   "source": [
    "X = tf.placeholder(tf.float32)\n",
    "Y = tf.placeholder(tf.float32)"
   ]
  },
  {
   "cell_type": "code",
   "execution_count": 43,
   "id": "theoretical-march",
   "metadata": {},
   "outputs": [],
   "source": [
    "W = tf.Variable(tf.random_normal([1]), name='weight')\n",
    "b = tf.Variable(tf.random_normal([1]), name='bias')"
   ]
  },
  {
   "cell_type": "code",
   "execution_count": 44,
   "id": "finite-merit",
   "metadata": {},
   "outputs": [],
   "source": [
    "H = X*W + b"
   ]
  },
  {
   "cell_type": "code",
   "execution_count": 45,
   "id": "amber-wedding",
   "metadata": {},
   "outputs": [],
   "source": [
    "cost = tf.reduce_mean(tf.square(H-Y))"
   ]
  },
  {
   "cell_type": "code",
   "execution_count": 47,
   "id": "strange-postage",
   "metadata": {},
   "outputs": [],
   "source": [
    "optimizer = tf.train.GradientDescentOptimizer(learning_rate=0.02)"
   ]
  },
  {
   "cell_type": "code",
   "execution_count": 48,
   "id": "neural-madonna",
   "metadata": {},
   "outputs": [],
   "source": [
    "train = optimizer.minimize(cost)"
   ]
  },
  {
   "cell_type": "code",
   "execution_count": 49,
   "id": "determined-upset",
   "metadata": {},
   "outputs": [],
   "source": [
    "sess = tf.Session()"
   ]
  },
  {
   "cell_type": "code",
   "execution_count": 50,
   "id": "dedicated-windows",
   "metadata": {},
   "outputs": [],
   "source": [
    "sess.run(tf.global_variables_initializer())"
   ]
  },
  {
   "cell_type": "code",
   "execution_count": 55,
   "id": "derived-topic",
   "metadata": {},
   "outputs": [
    {
     "name": "stdout",
     "output_type": "stream",
     "text": [
      "6.063298e-13 [0.99999905] [1.9654578e-06]\n",
      "6.063298e-13 [0.99999905] [1.9654578e-06]\n",
      "6.063298e-13 [0.99999905] [1.9654578e-06]\n",
      "6.063298e-13 [0.99999905] [1.9654578e-06]\n",
      "6.063298e-13 [0.99999905] [1.9654578e-06]\n",
      "6.063298e-13 [0.99999905] [1.9654578e-06]\n",
      "6.063298e-13 [0.99999905] [1.9654578e-06]\n",
      "6.063298e-13 [0.99999905] [1.9654578e-06]\n",
      "6.063298e-13 [0.99999905] [1.9654578e-06]\n",
      "6.063298e-13 [0.99999905] [1.9654578e-06]\n",
      "6.063298e-13 [0.99999905] [1.9654578e-06]\n",
      "6.063298e-13 [0.99999905] [1.9654578e-06]\n",
      "6.063298e-13 [0.99999905] [1.9654578e-06]\n",
      "6.063298e-13 [0.99999905] [1.9654578e-06]\n",
      "6.063298e-13 [0.99999905] [1.9654578e-06]\n",
      "6.063298e-13 [0.99999905] [1.9654578e-06]\n",
      "6.063298e-13 [0.99999905] [1.9654578e-06]\n",
      "6.063298e-13 [0.99999905] [1.9654578e-06]\n",
      "6.063298e-13 [0.99999905] [1.9654578e-06]\n",
      "6.063298e-13 [0.99999905] [1.9654578e-06]\n",
      "6.063298e-13 [0.99999905] [1.9654578e-06]\n",
      "6.063298e-13 [0.99999905] [1.9654578e-06]\n",
      "6.063298e-13 [0.99999905] [1.9654578e-06]\n",
      "6.063298e-13 [0.99999905] [1.9654578e-06]\n",
      "6.063298e-13 [0.99999905] [1.9654578e-06]\n",
      "6.063298e-13 [0.99999905] [1.9654578e-06]\n",
      "6.063298e-13 [0.99999905] [1.9654578e-06]\n",
      "6.063298e-13 [0.99999905] [1.9654578e-06]\n",
      "6.063298e-13 [0.99999905] [1.9654578e-06]\n",
      "6.063298e-13 [0.99999905] [1.9654578e-06]\n",
      "6.063298e-13 [0.99999905] [1.9654578e-06]\n",
      "6.063298e-13 [0.99999905] [1.9654578e-06]\n",
      "6.063298e-13 [0.99999905] [1.9654578e-06]\n",
      "6.063298e-13 [0.99999905] [1.9654578e-06]\n",
      "6.063298e-13 [0.99999905] [1.9654578e-06]\n",
      "6.063298e-13 [0.99999905] [1.9654578e-06]\n",
      "6.063298e-13 [0.99999905] [1.9654578e-06]\n",
      "6.063298e-13 [0.99999905] [1.9654578e-06]\n",
      "6.063298e-13 [0.99999905] [1.9654578e-06]\n",
      "6.063298e-13 [0.99999905] [1.9654578e-06]\n",
      "6.063298e-13 [0.99999905] [1.9654578e-06]\n",
      "6.063298e-13 [0.99999905] [1.9654578e-06]\n",
      "6.063298e-13 [0.99999905] [1.9654578e-06]\n",
      "6.063298e-13 [0.99999905] [1.9654578e-06]\n",
      "6.063298e-13 [0.99999905] [1.9654578e-06]\n",
      "6.063298e-13 [0.99999905] [1.9654578e-06]\n",
      "6.063298e-13 [0.99999905] [1.9654578e-06]\n",
      "6.063298e-13 [0.99999905] [1.9654578e-06]\n",
      "6.063298e-13 [0.99999905] [1.9654578e-06]\n",
      "6.063298e-13 [0.99999905] [1.9654578e-06]\n",
      "6.063298e-13 [0.99999905] [1.9654578e-06]\n",
      "-----------------Train completed----------------\n",
      "6.063298e-13 [0.99999905] [1.9654578e-06]\n"
     ]
    }
   ],
   "source": [
    "for step in range(5001):\n",
    "    cost_val, W_val, b_val, _ = sess.run([cost, W, b, train], feed_dict={X:x_data, Y:y_data})\n",
    "    if step % 100 == 0:\n",
    "        print (cost_val, W_val, b_val)\n",
    "print (\"-----------------Train completed----------------\")\n",
    "print (cost_val, W_val, b_val)"
   ]
  },
  {
   "cell_type": "code",
   "execution_count": 56,
   "id": "fabulous-competition",
   "metadata": {},
   "outputs": [
    {
     "name": "stdout",
     "output_type": "stream",
     "text": [
      "[4.999997]\n"
     ]
    }
   ],
   "source": [
    "# Make a prediction on the trained model.\n",
    "print (sess.run(H, feed_dict={X:[5]}))"
   ]
  },
  {
   "cell_type": "code",
   "execution_count": null,
   "id": "hidden-comedy",
   "metadata": {},
   "outputs": [],
   "source": []
  }
 ],
 "metadata": {
  "kernelspec": {
   "display_name": "Python [conda env:tensorflow] *",
   "language": "python",
   "name": "conda-env-tensorflow-py"
  },
  "language_info": {
   "codemirror_mode": {
    "name": "ipython",
    "version": 3
   },
   "file_extension": ".py",
   "mimetype": "text/x-python",
   "name": "python",
   "nbconvert_exporter": "python",
   "pygments_lexer": "ipython3",
   "version": "3.8.5"
  }
 },
 "nbformat": 4,
 "nbformat_minor": 5
}
